{
 "cells": [
  {
   "cell_type": "markdown",
   "id": "e74567f6-e0e3-47a6-a287-eda2f869e051",
   "metadata": {},
   "source": [
    "This notebook demonstrates a numpy array (visible as output)."
   ]
  },
  {
   "cell_type": "code",
   "execution_count": 1,
   "id": "612b6982-01f4-4e28-9031-cf401a8e640e",
   "metadata": {},
   "outputs": [
    {
     "data": {
      "text/plain": [
       "array([[ 0,  1,  2,  3],\n",
       "       [ 4,  5,  6,  7],\n",
       "       [ 8,  9, 10, 11]])"
      ]
     },
     "execution_count": 1,
     "metadata": {},
     "output_type": "execute_result"
    }
   ],
   "source": [
    "import numpy as np\n",
    "\n",
    "# Create a simple 3x4 numpy array\n",
    "arr = np.arange(12).reshape(3, 4)\n",
    "arr\n"
   ]
  },
  {
   "cell_type": "code",
   "execution_count": null,
   "id": "15c65279-a7eb-4a33-b106-51a3ed3ac080",
   "metadata": {},
   "outputs": [],
   "source": []
  }
 ],
 "metadata": {
  "kernelspec": {
   "display_name": "Python 3 (ipykernel)",
   "language": "python",
   "name": "python3"
  },
  "language_info": {
   "codemirror_mode": {
    "name": "ipython",
    "version": 3
   },
   "file_extension": ".py",
   "mimetype": "text/x-python",
   "name": "python",
   "nbconvert_exporter": "python",
   "pygments_lexer": "ipython3",
   "version": "3.13.2"
  }
 },
 "nbformat": 4,
 "nbformat_minor": 5
}
