{
 "cells": [
  {
   "cell_type": "code",
   "execution_count": 1,
   "id": "54edb1d5-f9a3-4453-9fe9-20b9fa92be3d",
   "metadata": {},
   "outputs": [
    {
     "name": "stdout",
     "output_type": "stream",
     "text": [
      "✅ Model trained and saved. Validation RMSLE: 0.24881\n",
      "{'rmsle': np.float64(0.24881)}\n"
     ]
    }
   ],
   "source": [
    "# --- Model Building ---\n",
    "import sys\n",
    "sys.path.append(\"..\")  # ensures the package is found\n",
    "\n",
    "import pandas as pd\n",
    "from house_prices.train import build_model\n",
    "\n",
    "training_df = pd.read_csv(\"../data/train.csv\")\n",
    "model_performance_dict = build_model(training_df)\n",
    "print(model_performance_dict)\n"
   ]
  },
  {
   "cell_type": "code",
   "execution_count": 2,
   "id": "a38182a7-fa08-455f-9742-0c5be627d9b8",
   "metadata": {},
   "outputs": [
    {
     "name": "stdout",
     "output_type": "stream",
     "text": [
      "✅ Model trained and saved. Validation RMSLE: 0.24881\n",
      "{'rmsle': np.float64(0.24881)}\n"
     ]
    }
   ],
   "source": [
    "# --- Model Building ---\n",
    "import sys\n",
    "sys.path.append(\"..\")  # ensures the package is found\n",
    "\n",
    "import pandas as pd\n",
    "from house_prices.train import build_model\n",
    "\n",
    "training_df = pd.read_csv(\"../data/train.csv\")\n",
    "model_performance_dict = build_model(training_df)\n",
    "print(model_performance_dict)\n"
   ]
  }
 ],
 "metadata": {
  "kernelspec": {
   "display_name": "Python 3 (ipykernel)",
   "language": "python",
   "name": "python3"
  },
  "language_info": {
   "codemirror_mode": {
    "name": "ipython",
    "version": 3
   },
   "file_extension": ".py",
   "mimetype": "text/x-python",
   "name": "python",
   "nbconvert_exporter": "python",
   "pygments_lexer": "ipython3",
   "version": "3.13.2"
  }
 },
 "nbformat": 4,
 "nbformat_minor": 5
}
